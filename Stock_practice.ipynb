{
  "nbformat": 4,
  "nbformat_minor": 0,
  "metadata": {
    "colab": {
      "name": "Stock_practice.ipynb",
      "provenance": [],
      "authorship_tag": "ABX9TyNiaH3e5m8xqtStqkPfFv84",
      "include_colab_link": true
    },
    "kernelspec": {
      "name": "python3",
      "display_name": "Python 3"
    },
    "language_info": {
      "name": "python"
    }
  },
  "cells": [
    {
      "cell_type": "markdown",
      "metadata": {
        "id": "view-in-github",
        "colab_type": "text"
      },
      "source": [
        "<a href=\"https://colab.research.google.com/github/SiddTayi/RTD_Projs/blob/main/Stock_practice.ipynb\" target=\"_parent\"><img src=\"https://colab.research.google.com/assets/colab-badge.svg\" alt=\"Open In Colab\"/></a>"
      ]
    },
    {
      "cell_type": "code",
      "metadata": {
        "id": "YJYQwmw8yYf7"
      },
      "source": [
        "import numpy as np \n",
        "import pandas as pd\n",
        "import matplotlib.pyplot as plt\n",
        "import pandas_datareader as web\n",
        "import datetime as dt\n",
        "from sklearn.preprocessing import MinMaxScaler\n",
        "from tensorflow.keras.models import Sequential\n",
        "from tensorflow.keras.layers import Dense, Dropout, LSTM\n",
        "\n"
      ],
      "execution_count": 1,
      "outputs": []
    },
    {
      "cell_type": "code",
      "metadata": {
        "id": "RWSv9QF-ymTR"
      },
      "source": [
        "#Load Data\n",
        "company = 'AAPL'\n",
        "start = dt.datetime(2012,1,12)\n",
        "end = dt.datetime(2020,1,1)\n",
        "data = web.DataReader(company, 'yahoo', start, end)\n",
        "data = data.filter(['Close'])"
      ],
      "execution_count": 2,
      "outputs": []
    },
    {
      "cell_type": "code",
      "metadata": {
        "colab": {
          "base_uri": "https://localhost:8080/",
          "height": 450
        },
        "id": "J5Iwesvm0_GJ",
        "outputId": "391423dd-c86b-4206-ac09-929474e17722"
      },
      "source": [
        "data"
      ],
      "execution_count": 3,
      "outputs": [
        {
          "output_type": "execute_result",
          "data": {
            "text/html": [
              "<div>\n",
              "<style scoped>\n",
              "    .dataframe tbody tr th:only-of-type {\n",
              "        vertical-align: middle;\n",
              "    }\n",
              "\n",
              "    .dataframe tbody tr th {\n",
              "        vertical-align: top;\n",
              "    }\n",
              "\n",
              "    .dataframe thead th {\n",
              "        text-align: right;\n",
              "    }\n",
              "</style>\n",
              "<table border=\"1\" class=\"dataframe\">\n",
              "  <thead>\n",
              "    <tr style=\"text-align: right;\">\n",
              "      <th></th>\n",
              "      <th>Close</th>\n",
              "    </tr>\n",
              "    <tr>\n",
              "      <th>Date</th>\n",
              "      <th></th>\n",
              "    </tr>\n",
              "  </thead>\n",
              "  <tbody>\n",
              "    <tr>\n",
              "      <th>2012-01-12</th>\n",
              "      <td>15.049643</td>\n",
              "    </tr>\n",
              "    <tr>\n",
              "      <th>2012-01-13</th>\n",
              "      <td>14.993214</td>\n",
              "    </tr>\n",
              "    <tr>\n",
              "      <th>2012-01-17</th>\n",
              "      <td>15.167857</td>\n",
              "    </tr>\n",
              "    <tr>\n",
              "      <th>2012-01-18</th>\n",
              "      <td>15.325357</td>\n",
              "    </tr>\n",
              "    <tr>\n",
              "      <th>2012-01-19</th>\n",
              "      <td>15.276786</td>\n",
              "    </tr>\n",
              "    <tr>\n",
              "      <th>...</th>\n",
              "      <td>...</td>\n",
              "    </tr>\n",
              "    <tr>\n",
              "      <th>2019-12-24</th>\n",
              "      <td>71.067497</td>\n",
              "    </tr>\n",
              "    <tr>\n",
              "      <th>2019-12-26</th>\n",
              "      <td>72.477501</td>\n",
              "    </tr>\n",
              "    <tr>\n",
              "      <th>2019-12-27</th>\n",
              "      <td>72.449997</td>\n",
              "    </tr>\n",
              "    <tr>\n",
              "      <th>2019-12-30</th>\n",
              "      <td>72.879997</td>\n",
              "    </tr>\n",
              "    <tr>\n",
              "      <th>2019-12-31</th>\n",
              "      <td>73.412498</td>\n",
              "    </tr>\n",
              "  </tbody>\n",
              "</table>\n",
              "<p>2005 rows × 1 columns</p>\n",
              "</div>"
            ],
            "text/plain": [
              "                Close\n",
              "Date                 \n",
              "2012-01-12  15.049643\n",
              "2012-01-13  14.993214\n",
              "2012-01-17  15.167857\n",
              "2012-01-18  15.325357\n",
              "2012-01-19  15.276786\n",
              "...               ...\n",
              "2019-12-24  71.067497\n",
              "2019-12-26  72.477501\n",
              "2019-12-27  72.449997\n",
              "2019-12-30  72.879997\n",
              "2019-12-31  73.412498\n",
              "\n",
              "[2005 rows x 1 columns]"
            ]
          },
          "metadata": {
            "tags": []
          },
          "execution_count": 3
        }
      ]
    },
    {
      "cell_type": "code",
      "metadata": {
        "colab": {
          "base_uri": "https://localhost:8080/"
        },
        "id": "azqwbiuo0Dwp",
        "outputId": "0616b3e7-ae8b-477e-efd7-1a153bf60f4b"
      },
      "source": [
        "#preparing data for NN\n",
        "scaler = MinMaxScaler(feature_range=(0,1))\n",
        "scaled_data = scaler.fit_transform(data)\n",
        "scaled_data"
      ],
      "execution_count": 4,
      "outputs": [
        {
          "output_type": "execute_result",
          "data": {
            "text/plain": [
              "array([[0.0185343 ],\n",
              "       [0.01758536],\n",
              "       [0.02052227],\n",
              "       ...,\n",
              "       [0.98381398],\n",
              "       [0.99104513],\n",
              "       [1.        ]])"
            ]
          },
          "metadata": {
            "tags": []
          },
          "execution_count": 4
        }
      ]
    },
    {
      "cell_type": "code",
      "metadata": {
        "colab": {
          "base_uri": "https://localhost:8080/"
        },
        "id": "4anyih_O0t8n",
        "outputId": "ba01b742-dc35-4680-814a-b1c518c46f80"
      },
      "source": [
        "scaled_data.shape"
      ],
      "execution_count": 5,
      "outputs": [
        {
          "output_type": "execute_result",
          "data": {
            "text/plain": [
              "(2005, 1)"
            ]
          },
          "metadata": {
            "tags": []
          },
          "execution_count": 5
        }
      ]
    },
    {
      "cell_type": "code",
      "metadata": {
        "id": "LAz92bBy1IMe"
      },
      "source": [
        "#look back days to predict\n",
        "prediction_days = 60\n",
        "x_train = []\n",
        "y_train = []\n",
        "\n",
        "for x in range(prediction_days, len(scaled_data)):\n",
        "  x_train.append(scaled_data[x-prediction_days: x, 0])\n",
        "  y_train.append(scaled_data[x,0])\n",
        "\n"
      ],
      "execution_count": 6,
      "outputs": []
    },
    {
      "cell_type": "code",
      "metadata": {
        "colab": {
          "base_uri": "https://localhost:8080/"
        },
        "id": "1rZdCajx17gx",
        "outputId": "51ce0a0d-c74b-4ee9-b24d-9739a0c802ee"
      },
      "source": [
        "#train and test sets into numpy arr\n",
        "x_train, y_train = np.array(x_train), np.array(y_train)\n",
        "x_train.shape"
      ],
      "execution_count": 7,
      "outputs": [
        {
          "output_type": "execute_result",
          "data": {
            "text/plain": [
              "(1945, 60)"
            ]
          },
          "metadata": {
            "tags": []
          },
          "execution_count": 7
        }
      ]
    },
    {
      "cell_type": "code",
      "metadata": {
        "colab": {
          "base_uri": "https://localhost:8080/"
        },
        "id": "waMz9Gmt2RYo",
        "outputId": "8d3bb323-e55f-4482-86c2-c00ee4b5aeb4"
      },
      "source": [
        "x_train = np.reshape(x_train, (x_train.shape[0],x_train.shape[1],1))\n",
        "x_train.shape"
      ],
      "execution_count": 8,
      "outputs": [
        {
          "output_type": "execute_result",
          "data": {
            "text/plain": [
              "(1945, 60, 1)"
            ]
          },
          "metadata": {
            "tags": []
          },
          "execution_count": 8
        }
      ]
    },
    {
      "cell_type": "code",
      "metadata": {
        "id": "S0rwwzsB2ZWg"
      },
      "source": [
        "#model building \n",
        "\n",
        "model = Sequential()\n",
        "model.add(LSTM(units=50, return_sequences=True, input_shape=(x_train.shape[1], 1)))\n",
        "model.add(Dropout(0.2))\n",
        "model.add(LSTM(units = 50, return_sequences=True))\n",
        "model.add(Dropout(0.2))\n",
        "model.add(LSTM(units = 50, return_sequences=False))\n",
        "model.add(Dropout(0.2))\n",
        "\n",
        "model.add(Dense(32))\n",
        "model.add(Dense(1))\n",
        "\n"
      ],
      "execution_count": 9,
      "outputs": []
    },
    {
      "cell_type": "code",
      "metadata": {
        "id": "1zIqwUyX49Bp"
      },
      "source": [
        "model.compile(optimizer='adam', loss='mean_squared_error')"
      ],
      "execution_count": 10,
      "outputs": []
    },
    {
      "cell_type": "code",
      "metadata": {
        "colab": {
          "base_uri": "https://localhost:8080/"
        },
        "id": "s_l4U9ls5F5w",
        "outputId": "c1877740-c643-44cc-beaa-7aa9cabd5449"
      },
      "source": [
        "model.fit(x_train, y_train, batch_size=5, epochs=5)"
      ],
      "execution_count": 27,
      "outputs": [
        {
          "output_type": "stream",
          "text": [
            "Epoch 1/5\n",
            "389/389 [==============================] - 16s 42ms/step - loss: 9.7375e-04\n",
            "Epoch 2/5\n",
            "389/389 [==============================] - 16s 42ms/step - loss: 8.9501e-04\n",
            "Epoch 3/5\n",
            "389/389 [==============================] - 16s 42ms/step - loss: 9.1351e-04\n",
            "Epoch 4/5\n",
            "389/389 [==============================] - 16s 41ms/step - loss: 8.2172e-04\n",
            "Epoch 5/5\n",
            "389/389 [==============================] - 16s 41ms/step - loss: 9.0954e-04\n"
          ],
          "name": "stdout"
        },
        {
          "output_type": "execute_result",
          "data": {
            "text/plain": [
              "<tensorflow.python.keras.callbacks.History at 0x7f7125cd2250>"
            ]
          },
          "metadata": {
            "tags": []
          },
          "execution_count": 27
        }
      ]
    },
    {
      "cell_type": "code",
      "metadata": {
        "id": "MDMQ5Aab5LEY"
      },
      "source": [
        "# testing\n",
        "test_start = dt.datetime(2020,1,1)\n",
        "test_end = dt.datetime.now()\n",
        "test_data = web.DataReader(company, 'yahoo', test_start, test_end)"
      ],
      "execution_count": 28,
      "outputs": []
    },
    {
      "cell_type": "code",
      "metadata": {
        "colab": {
          "base_uri": "https://localhost:8080/"
        },
        "id": "GHnluQBK7m9B",
        "outputId": "021eba2f-1f0f-45b6-9988-30af6b55e82e"
      },
      "source": [
        "actual_prices = test_data['Close'].values\n",
        "actual_prices[:10]"
      ],
      "execution_count": 29,
      "outputs": [
        {
          "output_type": "execute_result",
          "data": {
            "text/plain": [
              "array([75.08750153, 74.35749817, 74.94999695, 74.59750366, 75.79750061,\n",
              "       77.40750122, 77.58249664, 79.23999786, 78.16999817, 77.83499908])"
            ]
          },
          "metadata": {
            "tags": []
          },
          "execution_count": 29
        }
      ]
    },
    {
      "cell_type": "code",
      "metadata": {
        "colab": {
          "base_uri": "https://localhost:8080/"
        },
        "id": "70ggRulN7tig",
        "outputId": "c76d4855-f8c4-4880-d7f9-e843e1c7d7f7"
      },
      "source": [
        "# training + testing data\n",
        "total_dataset = pd.concat((data['Close'], test_data['Close']), axis=0)\n",
        "total_dataset"
      ],
      "execution_count": 30,
      "outputs": [
        {
          "output_type": "execute_result",
          "data": {
            "text/plain": [
              "Date\n",
              "2012-01-12     15.049643\n",
              "2012-01-13     14.993214\n",
              "2012-01-17     15.167857\n",
              "2012-01-18     15.325357\n",
              "2012-01-19     15.276786\n",
              "                 ...    \n",
              "2021-06-24    133.410004\n",
              "2021-06-25    133.110001\n",
              "2021-06-28    134.779999\n",
              "2021-06-29    136.330002\n",
              "2021-06-30    136.914993\n",
              "Name: Close, Length: 2382, dtype: float64"
            ]
          },
          "metadata": {
            "tags": []
          },
          "execution_count": 30
        }
      ]
    },
    {
      "cell_type": "code",
      "metadata": {
        "id": "tEgCtYvB8JRa"
      },
      "source": [
        "model_inputs = total_dataset[len(total_dataset)- len(test_data)- prediction_days :].values\n",
        "model_inputs = model_inputs.reshape(-1,1)\n",
        "model_inputs = scaler.transform(model_inputs)"
      ],
      "execution_count": 31,
      "outputs": []
    },
    {
      "cell_type": "code",
      "metadata": {
        "id": "3MJzAZcj8p-y"
      },
      "source": [
        "#make predictions on test data\n",
        "x_test = []\n",
        "\n",
        "for x in range(prediction_days, len(model_inputs)):\n",
        "  x_test.append(model_inputs[x-prediction_days:x, 0])\n",
        "\n",
        "x_test = np.array(x_test)\n",
        "x_test = np.reshape(x_test, (x_test.shape[0], x_test.shape[1],1))"
      ],
      "execution_count": 32,
      "outputs": []
    },
    {
      "cell_type": "code",
      "metadata": {
        "id": "sarFDJwZ8-4I"
      },
      "source": [
        "pred_price = model.predict(x_test)\n",
        "pred_price = scaler.inverse_transform(pred_price)"
      ],
      "execution_count": 33,
      "outputs": []
    },
    {
      "cell_type": "code",
      "metadata": {
        "colab": {
          "base_uri": "https://localhost:8080/",
          "height": 313
        },
        "id": "GftUevDA9Ub5",
        "outputId": "53e0deca-a5be-4050-f73e-7bd9bae205e7"
      },
      "source": [
        "#plot\n",
        "\n",
        "plt.plot(actual_prices,c='black')\n",
        "plt.plot(pred_price,c='orange')\n",
        "plt.title('Share price')\n",
        "plt.xlabel('Time')\n",
        "plt.ylabel('Share Price')\n"
      ],
      "execution_count": 34,
      "outputs": [
        {
          "output_type": "execute_result",
          "data": {
            "text/plain": [
              "Text(0, 0.5, 'Share Price')"
            ]
          },
          "metadata": {
            "tags": []
          },
          "execution_count": 34
        },
        {
          "output_type": "display_data",
          "data": {
            "image/png": "[encoded data removed]",
            "text/plain": [
              "<Figure size 432x288 with 1 Axes>"
            ]
          },
          "metadata": {
            "tags": [],
            "needs_background": "light"
          }
        }
      ]
    },
    {
      "cell_type": "code",
      "metadata": {
        "id": "e8n53zgl9ZCo"
      },
      "source": [
        "#predict next date\n",
        "real_data = [model_inputs[len(model_inputs)+1 - prediction_days: len(model_inputs+1),0]]\n",
        "real_data = np.array(real_data)\n",
        "real_data = np.reshape(real_data, (real_data.shape[0], real_data.shape[1],1))\n"
      ],
      "execution_count": 35,
      "outputs": []
    },
    {
      "cell_type": "code",
      "metadata": {
        "colab": {
          "base_uri": "https://localhost:8080/"
        },
        "id": "iomBZu5u__V5",
        "outputId": "1fd12b23-f660-4266-ed4d-0d8ca3f6d181"
      },
      "source": [
        "pred = model.predict(real_data)\n",
        "pred = scaler.inverse_transform(pred)\n",
        "pred"
      ],
      "execution_count": 36,
      "outputs": [
        {
          "output_type": "stream",
          "text": [
            "WARNING:tensorflow:Model was constructed with shape (None, 60, 1) for input KerasTensor(type_spec=TensorSpec(shape=(None, 60, 1), dtype=tf.float32, name='lstm_input'), name='lstm_input', description=\"created by layer 'lstm_input'\"), but it was called on an input with incompatible shape (None, 59, 1).\n"
          ],
          "name": "stdout"
        },
        {
          "output_type": "execute_result",
          "data": {
            "text/plain": [
              "array([[120.29115]], dtype=float32)"
            ]
          },
          "metadata": {
            "tags": []
          },
          "execution_count": 36
        }
      ]
    },
    {
      "cell_type": "code",
      "metadata": {
        "id": "VkqcUWMOAIEA"
      },
      "source": [
        ""
      ],
      "execution_count": null,
      "outputs": []
    }
  ]
}