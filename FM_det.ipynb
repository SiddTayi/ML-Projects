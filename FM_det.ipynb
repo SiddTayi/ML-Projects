{
 "cells": [
  {
   "cell_type": "code",
   "execution_count": 1,
   "id": "stopped-passenger",
   "metadata": {},
   "outputs": [],
   "source": [
    "import tensorflow\n",
    "import numpy as np\n",
    "from tensorflow import keras\n",
    "from keras.models import load_model\n",
    "import cv2\n",
    "import tkinter\n",
    "from tkinter import messagebox\n",
    "import smtplib"
   ]
  },
  {
   "cell_type": "code",
   "execution_count": 3,
   "id": "silent-extension",
   "metadata": {},
   "outputs": [],
   "source": [
    "root = tkinter.Tk()\n",
    "root.withdraw()\n",
    "\n",
    "#load trained model\n",
    "\n",
    "model = load_model('C:\\\\Users\\\\Sid\\\\Desktop\\\\RTD\\\\RTD_face-mask_detection.h5')\n",
    "\n",
    "\n",
    "#classifier to detect face\n",
    "face_det_classifier = cv2.CascadeClassifier('C:\\\\Users\\\\Sid\\\\Desktop\\\\RTD\\\\haarcascade_frontalface_default.xml')\n",
    "\n",
    "#capture video\n",
    "cam = cv2.VideoCapture(1)\n",
    "\n",
    "#Dictionaries containing details of wearing a mask and color of rectangle around the face\n",
    "text_dict = {0:'Mask On', 1:'No Mask'}\n",
    "rect_color_dict = {0:(0,255,0),1:(0,0,255)}\n",
    "\n",
    "Subject = \"Subject\"\n",
    "TEXT = 'The visitor has violated the face mask policy.'\n",
    "\n",
    "        "
   ]
  },
  {
   "cell_type": "code",
   "execution_count": null,
   "id": "excess-wellington",
   "metadata": {},
   "outputs": [],
   "source": [
    "while True:\n",
    "    ret,img = cam.read()\n",
    "    grayscale_img = cv2.cvtColor(img,cv2.COLOR_BGR2GRAY)\n",
    "    faces = face_det_classifier.detectMultiScale(grayscale_img,1.3,5)  \n",
    "\n",
    "    for (x,y,w,h) in faces:\n",
    "    \n",
    "        face_img = grayscale_img[y:y+w,x:x+w]\n",
    "        resized_img = cv2.resize(face_img,(300,300))\n",
    "        normalized_img = resized_img/255.0\n",
    "        reshaped_img = np.reshape(normalized_img,(1,300,300,1))\n",
    "        result=model.predict(reshaped_img)\n",
    "        label = np.argmax(result,axis=1)[0]\n",
    "        \n",
    "        cv2.rectangle(img,(x,y),(x+w,y+h-10),rect_color_dict[label],2)\n",
    "        cv2.rectangle(img,(x,y-40),(x+w,y),rect_color_dict[label],-1)\n",
    "        cv2.putText(img,text_dict[label],(x,y),cv2.FONT_HERSHEY_SIMPLEX,0.8,(0,0,0),2)\n",
    "        \n",
    "        \n",
    "       # if label = 1, then no mask\n",
    "#         if (label==1):\n",
    "#             messagebox.showwarning(\"Warning\",\"Access Denied. Please Wear a Mask\")\n",
    "            \n",
    "#             #send a mail\n",
    "#             message = 'Subject: {}\\n\\n{}'.format(Subect,TEXT)\n",
    "#             mail = smtplib.SMTP('smtp.gmail.com',587)\n",
    "#             mail.ehlo()\n",
    "#             mail.starttls()\n",
    "#             mail.login('17211a04n0@bvrit.ac.in')\n",
    "#             mail.sendmail('17211a04n0@bvrit.ac.in','17211a04n0@bvrit.ac.in',message)\n",
    "#         else:\n",
    "#             pass\n",
    "#             break\n",
    "            \n",
    "            \n",
    "    cv2.imshow('Live Video feed',img)\n",
    "    if cv2.waitKey(1) & 0xFF == ord('q'):\n",
    "        break\n",
    "cam.release()\n",
    "cv2.destroyAllWindows()"
   ]
  },
  {
   "cell_type": "code",
   "execution_count": null,
   "id": "secret-amount",
   "metadata": {},
   "outputs": [],
   "source": []
  },
  {
   "cell_type": "code",
   "execution_count": null,
   "id": "incident-subscriber",
   "metadata": {},
   "outputs": [],
   "source": []
  }
 ],
 "metadata": {
  "kernelspec": {
   "display_name": "Python 3",
   "language": "python",
   "name": "python3"
  },
  "language_info": {
   "codemirror_mode": {
    "name": "ipython",
    "version": 3
   },
   "file_extension": ".py",
   "mimetype": "text/x-python",
   "name": "python",
   "nbconvert_exporter": "python",
   "pygments_lexer": "ipython3",
   "version": "3.7.9"
  }
 },
 "nbformat": 4,
 "nbformat_minor": 5
}
