{
  "nbformat": 4,
  "nbformat_minor": 0,
  "metadata": {
    "colab": {
      "name": "BrainTumorDet.ipynb",
      "provenance": [],
      "authorship_tag": "ABX9TyMuqhZWef9THGvTA/AzhPV/",
      "include_colab_link": true
    },
    "kernelspec": {
      "name": "python3",
      "display_name": "Python 3"
    },
    "language_info": {
      "name": "python"
    },
    "accelerator": "GPU"
  },
  "cells": [
    {
      "cell_type": "markdown",
      "metadata": {
        "id": "view-in-github",
        "colab_type": "text"
      },
      "source": [
        "<a href=\"https://colab.research.google.com/github/SiddTayi/RTD_Projs/blob/main/BrainTumorDet.ipynb\" target=\"_parent\"><img src=\"https://colab.research.google.com/assets/colab-badge.svg\" alt=\"Open In Colab\"/></a>"
      ]
    },
    {
      "cell_type": "code",
      "metadata": {
        "id": "45FC_DL4nqHo"
      },
      "source": [
        "import warnings\n",
        "warnings.filterwarnings('ignore')"
      ],
      "execution_count": null,
      "outputs": []
    },
    {
      "cell_type": "code",
      "metadata": {
        "colab": {
          "base_uri": "https://localhost:8080/"
        },
        "id": "wpQhxR1Dmb17",
        "outputId": "6d86825e-131c-45f4-e8fa-a50c297b5fe7"
      },
      "source": [
        "!wget https://www.dropbox.com/s/dtw18saps0231yn/BrainTumorData.zip?d1=0 \n"
      ],
      "execution_count": null,
      "outputs": [
        {
          "output_type": "stream",
          "text": [
            "--2021-06-27 19:16:09--  https://www.dropbox.com/s/dtw18saps0231yn/BrainTumorData.zip?d1=0\n",
            "Resolving www.dropbox.com (www.dropbox.com)... 162.125.4.18, 2620:100:601c:18::a27d:612\n",
            "Connecting to www.dropbox.com (www.dropbox.com)|162.125.4.18|:443... connected.\n",
            "HTTP request sent, awaiting response... 301 Moved Permanently\n",
            "Location: /s/raw/dtw18saps0231yn/BrainTumorData.zip [following]\n",
            "--2021-06-27 19:16:09--  https://www.dropbox.com/s/raw/dtw18saps0231yn/BrainTumorData.zip\n",
            "Reusing existing connection to www.dropbox.com:443.\n",
            "HTTP request sent, awaiting response... 302 Found\n",
            "Location: https://uc929c018f3af9a1f698a8f2e7b1.dl.dropboxusercontent.com/cd/0/inline/BROUuQ3EmKrZScg-voKKhd9Z2wuaeF5yAIUG2T5dNiYvA7-emmafhkmtEe2MCTFQmHg2rCEcayMQ7jVlcHU-qte0IHGywA_spEzkdaPBHiODNxwuUm34wghep9MmmdvXBG6pj-jys_NgdTnCy1Yk3sWT/file# [following]\n",
            "--2021-06-27 19:16:09--  https://uc929c018f3af9a1f698a8f2e7b1.dl.dropboxusercontent.com/cd/0/inline/BROUuQ3EmKrZScg-voKKhd9Z2wuaeF5yAIUG2T5dNiYvA7-emmafhkmtEe2MCTFQmHg2rCEcayMQ7jVlcHU-qte0IHGywA_spEzkdaPBHiODNxwuUm34wghep9MmmdvXBG6pj-jys_NgdTnCy1Yk3sWT/file\n",
            "Resolving uc929c018f3af9a1f698a8f2e7b1.dl.dropboxusercontent.com (uc929c018f3af9a1f698a8f2e7b1.dl.dropboxusercontent.com)... 162.125.6.15, 2620:100:601c:15::a27d:60f\n",
            "Connecting to uc929c018f3af9a1f698a8f2e7b1.dl.dropboxusercontent.com (uc929c018f3af9a1f698a8f2e7b1.dl.dropboxusercontent.com)|162.125.6.15|:443... connected.\n",
            "HTTP request sent, awaiting response... 302 Found\n",
            "Location: /cd/0/inline2/BRO0Ui1jUmYzlfNToI8tteKzs8buzMpQT9Ho3g-BrAutEfxv5dLnGEBjX0JEd23obp7B1RzrUyymxAletmFi-W2JT62jWM-RkOkkPC3QHBS_0RSwWo71XXD1CZWseFDirC7HhQM3oxhNVBFDLipBu6l0lgntyWipFNK2v9SVVo8KbjyWdpyPZMB9PtDTPcvElpHeXKcsSsAzoj-XlQ9oImHSd1JhwAO_sffigDihn8-MD9LEfRwIoeAvxh3fpLQISw2TEwUtlUlcvyqY-gXQwptUHXRX37NiQBlplMY5ndrDAObFwwNa-2uWq-4TgfuQkCGNc2RTISM-upReRdq161ble16zC9oylwnGJfDSDO8gwc65FX_dzwCeOALscVD4l-M/file [following]\n",
            "--2021-06-27 19:16:10--  https://uc929c018f3af9a1f698a8f2e7b1.dl.dropboxusercontent.com/cd/0/inline2/BRO0Ui1jUmYzlfNToI8tteKzs8buzMpQT9Ho3g-BrAutEfxv5dLnGEBjX0JEd23obp7B1RzrUyymxAletmFi-W2JT62jWM-RkOkkPC3QHBS_0RSwWo71XXD1CZWseFDirC7HhQM3oxhNVBFDLipBu6l0lgntyWipFNK2v9SVVo8KbjyWdpyPZMB9PtDTPcvElpHeXKcsSsAzoj-XlQ9oImHSd1JhwAO_sffigDihn8-MD9LEfRwIoeAvxh3fpLQISw2TEwUtlUlcvyqY-gXQwptUHXRX37NiQBlplMY5ndrDAObFwwNa-2uWq-4TgfuQkCGNc2RTISM-upReRdq161ble16zC9oylwnGJfDSDO8gwc65FX_dzwCeOALscVD4l-M/file\n",
            "Reusing existing connection to uc929c018f3af9a1f698a8f2e7b1.dl.dropboxusercontent.com:443.\n",
            "HTTP request sent, awaiting response... 200 OK\n",
            "Length: 112172920 (107M) [application/zip]\n",
            "Saving to: ‘BrainTumorData.zip?d1=0’\n",
            "\n",
            "BrainTumorData.zip? 100%[===================>] 106.98M   130MB/s    in 0.8s    \n",
            "\n",
            "2021-06-27 19:16:11 (130 MB/s) - ‘BrainTumorData.zip?d1=0’ saved [112172920/112172920]\n",
            "\n"
          ],
          "name": "stdout"
        }
      ]
    },
    {
      "cell_type": "code",
      "metadata": {
        "id": "3n49FaBJnVeE"
      },
      "source": [
        "!unzip /content/BrainTumorData.zip?d1=0\n"
      ],
      "execution_count": null,
      "outputs": []
    },
    {
      "cell_type": "markdown",
      "metadata": {
        "id": "GC3L0gN2n9S0"
      },
      "source": [
        "##IMPORT LIBS"
      ]
    },
    {
      "cell_type": "code",
      "metadata": {
        "id": "vvN0OFSzna8B"
      },
      "source": [
        "import numpy as np\n",
        "import matplotlib.pyplot as plt\n",
        "import os\n",
        "import tensorflow as tf\n",
        "import math \n",
        "import shutil \n",
        "import glob"
      ],
      "execution_count": null,
      "outputs": []
    },
    {
      "cell_type": "markdown",
      "metadata": {
        "id": "Xj42ivxloHi3"
      },
      "source": [
        "Count no. of images"
      ]
    },
    {
      "cell_type": "code",
      "metadata": {
        "colab": {
          "base_uri": "https://localhost:8080/"
        },
        "id": "BXV-7XSDn55g",
        "outputId": "bfd008f5-f8af-4626-defa-eb60d5e78b58"
      },
      "source": [
        "ROOT_DIR = \"/content/BrainTumorData/Brain Tumor Data Set\"\n",
        "number_of_images = {}\n",
        "\n",
        "for dir in os.listdir(ROOT_DIR):\n",
        "  number_of_images[dir] = len(os.listdir(os.path.join(ROOT_DIR, dir)))\n",
        "number_of_images.items()\n",
        "\n",
        "#os.listdir(os.path.join(ROOT_DIR, dir))\n",
        "# Brain Tumor , healthy"
      ],
      "execution_count": null,
      "outputs": [
        {
          "output_type": "execute_result",
          "data": {
            "text/plain": [
              "dict_items([('Healthey', 2087), ('Brain Tumor', 2513)])"
            ]
          },
          "metadata": {
            "tags": []
          },
          "execution_count": 6
        }
      ]
    },
    {
      "cell_type": "markdown",
      "metadata": {
        "id": "dnqfkMiSqvKs"
      },
      "source": [
        "##Training and Testing data Split\n",
        "  + 70% Training\n",
        "  + 15% Testing\n",
        "  + 15% Validation"
      ]
    },
    {
      "cell_type": "code",
      "metadata": {
        "id": "fjpwTLd1owXI"
      },
      "source": [
        "# if not os.path.exists(\"./train\"):\n",
        "#   os.mkdir(\"./train\")\n",
        "\n",
        "#   for dir in os.listdir(ROOT_DIR):\n",
        "#     os.makedirs(\"./train/\"+dir)\n",
        "    \n",
        "#     for img in np.random.choice(a = os.listdir(os.path.join(ROOT_DIR, dir)),\n",
        "#                                 size = (math.floor(70/100 * number_of_images[dir])-5),\n",
        "#                                 replace = False):\n",
        "#       O = os.path.join(ROOT_DIR,dir,img)\n",
        "#       D = os.path.join(\"./train\",dir)\n",
        "#       shutil.copy(O,D)\n",
        "#       os.remove(O)\n",
        "# else:\n",
        "#   print(\"The folder exists\")\n",
        "      \n"
      ],
      "execution_count": null,
      "outputs": []
    },
    {
      "cell_type": "code",
      "metadata": {
        "id": "aWRlIQpAt56N"
      },
      "source": [
        "# if not os.path.exists(\"./train\"):\n",
        "#   os.mkdir(\"./train\")\n",
        "\n",
        "#   for dir in os.listdir(ROOT_DIR):\n",
        "#     os.makedirs('./train/'+dir)\n",
        "\n",
        "#     for img in np.random.choice(a= os.listdir(os.path.join(ROOT_DIR, dir)),\n",
        "#                                 size = (math.floor(70/100 * number_of_images[dir])-5),\n",
        "#                                 replace = False):\n",
        "                                \n",
        "    \n",
        "#       O = os.path.join(ROOT_DIR,dir,img)\n",
        "#       D = os.path.join('./train',dir)\n",
        "#       shutil.copy(O,D)\n",
        "#       os.remove(O)\n",
        "\n",
        "# else:\n",
        "#   print(\"The Folder Exists\")"
      ],
      "execution_count": null,
      "outputs": []
    },
    {
      "cell_type": "code",
      "metadata": {
        "id": "TKo4Uc_RwdrD"
      },
      "source": [
        "def dataFolder(p,split):\n",
        "  if not os.path.exists(\"./\"+p):\n",
        "    os.mkdir(\"./\"+p)\n",
        "\n",
        "    for dir in os.listdir(ROOT_DIR):\n",
        "      os.makedirs(\"./\"+p+\"/\"+dir)\n",
        "\n",
        "      for img in np.random.choice(a= os.listdir(os.path.join(ROOT_DIR, dir)),\n",
        "                                  size = (math.floor(split * number_of_images[dir])-5),\n",
        "                                  replace = False):\n",
        "                                  \n",
        "      \n",
        "        O = os.path.join(ROOT_DIR,dir,img)\n",
        "        D = os.path.join(\"./\"+p, dir)\n",
        "        shutil.copy(O,D)\n",
        "        os.remove(O)\n",
        "\n",
        "  else:\n",
        "    print(f\"{p} Folder exists\")"
      ],
      "execution_count": null,
      "outputs": []
    },
    {
      "cell_type": "code",
      "metadata": {
        "id": "w-SsFG3Ayl-u"
      },
      "source": [
        "dataFolder(\"train\",0.70)\n",
        "dataFolder(\"validation\",0.15)\n",
        "dataFolder(\"test\",0.15)"
      ],
      "execution_count": null,
      "outputs": []
    },
    {
      "cell_type": "markdown",
      "metadata": {
        "id": "EPHbLxrs01BL"
      },
      "source": [
        "#Model Building"
      ]
    },
    {
      "cell_type": "code",
      "metadata": {
        "id": "rMh0N75jzJF5"
      },
      "source": [
        "from keras.layers import Conv2D, MaxPool2D, Dropout, Flatten, Dense, BatchNormalization, MaxPooling2D, GlobalAvgPool2D\n",
        "from keras.models import Sequential \n",
        "from keras.preprocessing.image import ImageDataGenerator\n",
        "import keras"
      ],
      "execution_count": null,
      "outputs": []
    },
    {
      "cell_type": "code",
      "metadata": {
        "id": "volB0wWC1Phd"
      },
      "source": [
        "# CNN model\n",
        "\n",
        "model = Sequential()\n",
        "\n",
        "model.add(Conv2D(filters=16, kernel_size=(3,3),activation='relu',input_shape=(244,244,3)))\n",
        "\n",
        "model.add(Conv2D(filters=32,kernel_size=(3,3),activation='relu'))\n",
        "model.add(MaxPool2D(pool_size=(2,2)))\n",
        "\n",
        "model.add(Conv2D(filters=64,kernel_size=(3,3),activation='relu'))\n",
        "model.add(MaxPool2D(pool_size=(2,2)))\n",
        "\n",
        "model.add(Conv2D(filters=128,kernel_size=(3,3),activation='relu'))\n",
        "model.add(MaxPool2D(pool_size=(2,2)))\n",
        "\n",
        "model.add(Dropout(rate = 0.25))\n",
        "\n",
        "model.add(Flatten())\n",
        "model.add(Dense(units = 64, activation='relu'))\n",
        "model.add(Dropout(rate = 0.25))\n",
        "\n",
        "model.add(Dense(units = 1, activation='sigmoid'))\n",
        "\n",
        "model.summary()"
      ],
      "execution_count": null,
      "outputs": []
    },
    {
      "cell_type": "code",
      "metadata": {
        "id": "xX4xgtVm2sb4"
      },
      "source": [
        "model.compile(optimizer='adam', loss= keras.losses.binary_crossentropy, metrics = ['accuracy'])"
      ],
      "execution_count": null,
      "outputs": []
    },
    {
      "cell_type": "code",
      "metadata": {
        "colab": {
          "base_uri": "https://localhost:8080/"
        },
        "id": "c2nv41QX4y2x",
        "outputId": "0456e948-b312-4638-c8d8-b193029286ad"
      },
      "source": [
        "number_of_images = {}\n",
        "\n",
        "for dir in os.listdir(ROOT_DIR):\n",
        "  number_of_images[dir] = len(os.listdir(os.path.join(ROOT_DIR, dir)))\n",
        "number_of_images.items()\n"
      ],
      "execution_count": null,
      "outputs": [
        {
          "output_type": "execute_result",
          "data": {
            "text/plain": [
              "dict_items([('Healthey', 16), ('Brain Tumor', 17)])"
            ]
          },
          "metadata": {
            "tags": []
          },
          "execution_count": 12
        }
      ]
    },
    {
      "cell_type": "markdown",
      "metadata": {
        "id": "QHao1Btp3T1G"
      },
      "source": [
        "## Preparing Data for Image Data Generator"
      ]
    },
    {
      "cell_type": "code",
      "metadata": {
        "id": "uyMpGIZx3Jk8"
      },
      "source": [
        "def preprocessingImages(path):\n",
        "  \"\"\"\n",
        "  input : Path\n",
        "  output : Preprocessed Images\n",
        "  \"\"\"\n",
        "  image_data = ImageDataGenerator(zoom_range=0.2,\n",
        "                                  shear_range=0.2,\n",
        "                                  rescale = 1/255,\n",
        "                                  horizontal_flip= True) #data Augmentation\n",
        "  image = image_data.flow_from_directory(directory = path, target_size = (244,244), batch_size= 32, class_mode='binary')\n",
        "\n",
        "  return image"
      ],
      "execution_count": null,
      "outputs": []
    },
    {
      "cell_type": "code",
      "metadata": {
        "id": "MDaErZ-y6NT6"
      },
      "source": [
        "def preprocessingImages2(path):\n",
        "  \"\"\"\n",
        "  input : Path\n",
        "  output : Preprocessed Images\n",
        "  \"\"\"\n",
        "  image_data = ImageDataGenerator(rescale = 1/255)\n",
        "  image = image_data.flow_from_directory(directory = path, target_size = (244,244), batch_size= 32, class_mode='binary')\n",
        "\n",
        "  return image"
      ],
      "execution_count": null,
      "outputs": []
    },
    {
      "cell_type": "code",
      "metadata": {
        "colab": {
          "base_uri": "https://localhost:8080/"
        },
        "id": "IMqydTeC38Zc",
        "outputId": "877d3513-739b-4f11-aa3b-aabc7b99f643"
      },
      "source": [
        "path_train = '/content/train'\n",
        "train_data = preprocessingImages(path_train)"
      ],
      "execution_count": null,
      "outputs": [
        {
          "output_type": "stream",
          "text": [
            "Found 3209 images belonging to 2 classes.\n"
          ],
          "name": "stdout"
        }
      ]
    },
    {
      "cell_type": "code",
      "metadata": {
        "colab": {
          "base_uri": "https://localhost:8080/"
        },
        "id": "C4WfCxhM4gQr",
        "outputId": "14062472-575f-4407-db4f-cb3aaf3510a0"
      },
      "source": [
        "path_test = '/content/test'\n",
        "test_data = preprocessingImages2(path_test)"
      ],
      "execution_count": null,
      "outputs": [
        {
          "output_type": "stream",
          "text": [
            "Found 679 images belonging to 2 classes.\n"
          ],
          "name": "stdout"
        }
      ]
    },
    {
      "cell_type": "code",
      "metadata": {
        "colab": {
          "base_uri": "https://localhost:8080/"
        },
        "id": "AGWisCJQ5H_i",
        "outputId": "73c70ec1-5290-45ac-f490-7d71a99d7208"
      },
      "source": [
        "path_val = '/content/validation'\n",
        "val_data = preprocessingImages2(path_val)"
      ],
      "execution_count": null,
      "outputs": [
        {
          "output_type": "stream",
          "text": [
            "Found 679 images belonging to 2 classes.\n"
          ],
          "name": "stdout"
        }
      ]
    },
    {
      "cell_type": "code",
      "metadata": {
        "id": "66DEKsfo6qi-"
      },
      "source": [
        "#Early stopping\n",
        "\n",
        "from keras.callbacks import ModelCheckpoint, EarlyStopping\n",
        "\n",
        "es = EarlyStopping(monitor=\"val_accuracy\", min_delta=0.01, patience=5, verbose=1, mode='auto')\n",
        "mc = ModelCheckpoint(monitor=\"val_accuracy\", filepath='./bestmodel.h5', verbose=1, save_best_only= True, mode='auto')\n",
        "\n",
        "cd = [es,mc]"
      ],
      "execution_count": null,
      "outputs": []
    },
    {
      "cell_type": "markdown",
      "metadata": {
        "id": "NAPU-EQr6lwo"
      },
      "source": [
        "#Training\n"
      ]
    },
    {
      "cell_type": "code",
      "metadata": {
        "id": "c6sY5RJ75Y4a"
      },
      "source": [
        "hs = model.fit_generator(generator=train_data, \n",
        "                         steps_per_epoch=8, \n",
        "                         epochs= 30, \n",
        "                         verbose=1, \n",
        "                         validation_data = val_data,\n",
        "                         validation_steps = 16, \n",
        "                         callbacks = cd\n",
        "                         )"
      ],
      "execution_count": null,
      "outputs": []
    },
    {
      "cell_type": "code",
      "metadata": {
        "colab": {
          "base_uri": "https://localhost:8080/"
        },
        "id": "-IAnufR98cId",
        "outputId": "cb8fc9b7-66a0-41e6-90e3-b9a0ad7bd6a1"
      },
      "source": [
        "# Plotting (Graphical interpretation)\n",
        "h = hs.history\n",
        "h.keys()"
      ],
      "execution_count": null,
      "outputs": [
        {
          "output_type": "execute_result",
          "data": {
            "text/plain": [
              "dict_keys(['loss', 'accuracy', 'val_loss', 'val_accuracy'])"
            ]
          },
          "metadata": {
            "tags": []
          },
          "execution_count": 25
        }
      ]
    },
    {
      "cell_type": "code",
      "metadata": {
        "id": "d2qDFvS6_m1P"
      },
      "source": [
        "import matplotlib.pyplot as plt\n"
      ],
      "execution_count": null,
      "outputs": []
    },
    {
      "cell_type": "code",
      "metadata": {
        "colab": {
          "base_uri": "https://localhost:8080/",
          "height": 281
        },
        "id": "06odWRTdAGTM",
        "outputId": "12c65e75-2cef-417a-e24b-0f4bb5019113"
      },
      "source": [
        "plt.plot(h['accuracy'])\n",
        "plt.plot(h['val_accuracy'], c = 'red')\n",
        "plt.title('Acc vs Val Acc')\n",
        "plt.show()"
      ],
      "execution_count": null,
      "outputs": [
        {
          "output_type": "display_data",
          "data": {
            "image/png": "[encoded data removed]",
            "text/plain": [
              "<Figure size 432x288 with 1 Axes>"
            ]
          },
          "metadata": {
            "tags": [],
            "needs_background": "light"
          }
        }
      ]
    },
    {
      "cell_type": "code",
      "metadata": {
        "colab": {
          "base_uri": "https://localhost:8080/",
          "height": 281
        },
        "id": "tGZwBl5QAT4T",
        "outputId": "30c3811e-e78f-4584-bce2-b28593a1aeae"
      },
      "source": [
        "plt.plot(h['loss'])\n",
        "plt.plot(h['val_loss'], c = 'red')\n",
        "plt.title('Loss vs Val Loss')\n",
        "plt.show()"
      ],
      "execution_count": null,
      "outputs": [
        {
          "output_type": "display_data",
          "data": {
            "image/png": "[encoded data removed]",
            "text/plain": [
              "<Figure size 432x288 with 1 Axes>"
            ]
          },
          "metadata": {
            "tags": [],
            "needs_background": "light"
          }
        }
      ]
    },
    {
      "cell_type": "code",
      "metadata": {
        "id": "2kwSrjZlBy0D"
      },
      "source": [
        "#model acc\n",
        "from keras.models import load_model\n",
        "\n",
        "model = load_model('/content/bestmodel.h5')"
      ],
      "execution_count": null,
      "outputs": []
    },
    {
      "cell_type": "markdown",
      "metadata": {
        "id": "bI0TIICpCBR_"
      },
      "source": [
        "##model acc\n"
      ]
    },
    {
      "cell_type": "code",
      "metadata": {
        "colab": {
          "base_uri": "https://localhost:8080/"
        },
        "id": "MxDbd7BzB_6d",
        "outputId": "e3a22342-4625-4471-e76d-5dce8d1e1018"
      },
      "source": [
        "acc = model.evaluate_generator(test_data)[1]\n",
        "print(f\"acc: {acc*100}%\")"
      ],
      "execution_count": null,
      "outputs": [
        {
          "output_type": "stream",
          "text": [
            "acc: 79.08689379692078%\n"
          ],
          "name": "stdout"
        }
      ]
    },
    {
      "cell_type": "code",
      "metadata": {
        "colab": {
          "base_uri": "https://localhost:8080/",
          "height": 286
        },
        "id": "3W482rP3CPuM",
        "outputId": "1079d240-37d0-4c4d-d882-921077d2692c"
      },
      "source": [
        "from keras.preprocessing.image import load_img, img_to_array\n",
        "path = \"/content/BrainTumorData/Brain Tumor Data Set/Brain Tumor/Cancer (405).jpg\"\n",
        "img = load_img(path, target_size=(244,244))\n",
        "input_arr = img_to_array(img)/255\n",
        "plt.imshow(input_arr)\n",
        "plt.show()\n",
        "\n",
        "input_arr.shape\n",
        "\n",
        "input_arr = np.expand_dims(input_arr, axis = 0)\n",
        "pred = model.predict_classes(input_arr)[0][0]\n",
        "pred\n",
        "\n",
        "if pred==0:\n",
        "  print(\"The image is having a Tumor\")\n",
        "else:\n",
        "  print(\"The Scan is not having a Tumor\")"
      ],
      "execution_count": null,
      "outputs": [
        {
          "output_type": "display_data",
          "data": {
            "image/png": "[encoded data removed]",
            "text/plain": [
              "<Figure size 432x288 with 1 Axes>"
            ]
          },
          "metadata": {
            "tags": [],
            "needs_background": "light"
          }
        },
        {
          "output_type": "stream",
          "text": [
            "The image is having a Tumor\n"
          ],
          "name": "stdout"
        }
      ]
    },
    {
      "cell_type": "code",
      "metadata": {
        "id": "0OgC8g32CkxK"
      },
      "source": [
        ""
      ],
      "execution_count": null,
      "outputs": []
    }
  ]
}